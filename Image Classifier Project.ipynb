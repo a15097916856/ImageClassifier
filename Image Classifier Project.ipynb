Jupyter Notebook
Image Classifier Project
Last Checkpoint: Last Sunday at 2:06 AM
(autosaved)
Current Kernel Logo
Python 3 
File
Edit
View
Insert
Cell
Kernel
Widgets
Help

Markdown
Developing an AI application
Going forward, AI algorithms will be incorporated into more and more everyday applications. For example, you might want to include an image classifier in a smart phone app. To do this, you'd use a deep learning model trained on hundreds of thousands of images as part of the overall application architecture. A large part of software development in the future will be using these types of models as common parts of applications.

In this project, you'll train an image classifier to recognize different species of flowers. You can imagine using something like this in a phone app that tells you the name of the flower your camera is looking at. In practice you'd train this classifier, then export it for use in your application. We'll be using this dataset of 102 flower categories, you can see a few examples below.


The project is broken down into multiple steps:

Load and preprocess the image dataset
Train the image classifier on your dataset
Use the trained classifier to predict image content
We'll lead you through each part which you'll implement in Python.

When you've completed this project, you'll have an application that can be trained on any set of labeled images. Here your network will be learning about flowers and end up as a command line application. But, what you do with your new skills depends on your imagination and effort in building a dataset. For example, imagine an app where you take a picture of a car, it tells you what the make and model is, then looks up information about it. Go build your own dataset and make something new.

First up is importing the packages you'll need. It's good practice to keep all the imports at the beginning of your code. As you work through this notebook and find you need to import a package, make sure to add the import up here.

# Imports here
import torch
from torchvision import datasets, transforms, models
from torch import nn
from torch import optim
import torch.nn.functional as F
%matplotlib inline
%config InlineBackend.figure_format = 'retina'
%pylab inline
import matplotlib.pyplot as plt
from matplotlib import figure
import matplotlib.image as mpimg
from collections import OrderedDict
from PIL import Image
import numpy as np
import pandas as pd
import seaborn as sb
import json
Populating the interactive namespace from numpy and matplotlib
Load the data
Here you'll use torchvision to load the data (documentation). The data should be included alongside this notebook, otherwise you can download it here. The dataset is split into three parts, training, validation, and testing. For the training, you'll want to apply transformations such as random scaling, cropping, and flipping. This will help the network generalize leading to better performance. You'll also need to make sure the input data is resized to 224x224 pixels as required by the pre-trained networks.

The validation and testing sets are used to measure the model's performance on data it hasn't seen yet. For this you don't want any scaling or rotation transformations, but you'll need to resize then crop the images to the appropriate size.

The pre-trained networks you'll use were trained on the ImageNet dataset where each color channel was normalized separately. For all three sets you'll need to normalize the means and standard deviations of the images to what the network expects. For the means, it's [0.485, 0.456, 0.406] and for the standard deviations [0.229, 0.224, 0.225], calculated from the ImageNet images. These values will shift each color channel to be centered at 0 and range from -1 to 1.

data_dir = 'flowers'
train_dir = data_dir + '/train'
valid_dir = data_dir + '/valid'
test_dir = data_dir + '/test'
# TODO: Define your transforms for the training, validation, and testing sets
torch.manual_seed(17)
batch_size = 64
epochs = 15
train_transforms = transforms.Compose([transforms.RandomRotation(30),
                                       transforms.RandomResizedCrop(224),
                                       transforms.RandomHorizontalFlip(),
                                       transforms.ToTensor(),
                                       transforms.Normalize([0.485, 0.456, 0.406],
                                                            [0.229, 0.224, 0.225])])
​
valid_transforms = transforms.Compose([transforms.RandomResizedCrop(224),
                                       transforms.ToTensor(),
                                       transforms.Normalize([0.485, 0.456, 0.406],
                                                            [0.229, 0.224, 0.225])])
​
test_transforms = transforms.Compose([transforms.RandomResizedCrop(224),
                                      transforms.ToTensor(),
                                      transforms.Normalize([0.485, 0.456, 0.406],
                                                           [0.229, 0.224, 0.225])])
​
# TODO: Load the datasets with ImageFolder
train_dataset = datasets.ImageFolder(train_dir, transform = train_transforms)
valid_dataset = datasets.ImageFolder(valid_dir, transform = valid_transforms)
test_dataset = datasets.ImageFolder(test_dir, transform = test_transforms)
​
# TODO: Using the image datasets and the trainforms, define the dataloaders
trainloader = torch.utils.data.DataLoader(train_dataset, batch_size = batch_size, shuffle = True) 
validloader = torch.utils.data.DataLoader(valid_dataset, batch_size = batch_size, shuffle = False)
testloader = torch.utils.data.DataLoader(test_dataset, batch_size = batch_size)
Label mapping
You'll also need to load in a mapping from category label to category name. You can find this in the file cat_to_name.json. It's a JSON object which you can read in with the json module. This will give you a dictionary mapping the integer encoded categories to the actual names of the flowers.

import json
​
with open('cat_to_name.json', 'r') as f:
    cat_to_name = json.load(f)
​
Building and training the classifier
Now that the data is ready, it's time to build and train the classifier. As usual, you should use one of the pretrained models from torchvision.models to get the image features. Build and train a new feed-forward classifier using those features.

We're going to leave this part up to you. Refer to the rubric for guidance on successfully completing this section. Things you'll need to do:

Load a pre-trained network (If you need a starting point, the VGG networks work great and are straightforward to use)
Define a new, untrained feed-forward network as a classifier, using ReLU activations and dropout
Train the classifier layers using backpropagation using the pre-trained network to get the features
Track the loss and accuracy on the validation set to determine the best hyperparameters
We've left a cell open for you below, but use as many as you need. Our advice is to break the problem up into smaller parts you can run separately. Check that each part is doing what you expect, then move on to the next. You'll likely find that as you work through each part, you'll need to go back and modify your previous code. This is totally normal!

When training make sure you're updating only the weights of the feed-forward network. You should be able to get the validation accuracy above 70% if you build everything right. Make sure to try different hyperparameters (learning rate, units in the classifier, epochs, etc) to find the best model. Save those hyperparameters to use as default values in the next part of the project.

One last important tip if you're using the workspace to run your code: To avoid having your workspace disconnect during the long-running tasks in this notebook, please read in the earlier page in this lesson called Intro to GPU Workspaces about Keeping Your Session Active. You'll want to include code from the workspace_utils.py module.

Note for Workspace users: If your network is over 1 GB when saved as a checkpoint, there might be issues with saving backups in your workspace. Typically this happens with wide dense layers after the convolutional layers. If your saved checkpoint is larger than 1 GB (you can open a terminal and check with ls -lh), you should reduce the size of your hidden layers and train again.

# TODO: Build and train your network
​
model = models.vgg13(pretrained = True)
Downloading: "https://download.pytorch.org/models/vgg13-c768596a.pth" to /root/.torch/models/vgg13-c768596a.pth
100%|██████████| 532194478/532194478 [00:09<00:00, 54181527.80it/s]
model
VGG(
  (features): Sequential(
    (0): Conv2d(3, 64, kernel_size=(3, 3), stride=(1, 1), padding=(1, 1))
    (1): ReLU(inplace)
    (2): Conv2d(64, 64, kernel_size=(3, 3), stride=(1, 1), padding=(1, 1))
    (3): ReLU(inplace)
    (4): MaxPool2d(kernel_size=2, stride=2, padding=0, dilation=1, ceil_mode=False)
    (5): Conv2d(64, 128, kernel_size=(3, 3), stride=(1, 1), padding=(1, 1))
    (6): ReLU(inplace)
    (7): Conv2d(128, 128, kernel_size=(3, 3), stride=(1, 1), padding=(1, 1))
    (8): ReLU(inplace)
    (9): MaxPool2d(kernel_size=2, stride=2, padding=0, dilation=1, ceil_mode=False)
    (10): Conv2d(128, 256, kernel_size=(3, 3), stride=(1, 1), padding=(1, 1))
    (11): ReLU(inplace)
    (12): Conv2d(256, 256, kernel_size=(3, 3), stride=(1, 1), padding=(1, 1))
    (13): ReLU(inplace)
    (14): MaxPool2d(kernel_size=2, stride=2, padding=0, dilation=1, ceil_mode=False)
    (15): Conv2d(256, 512, kernel_size=(3, 3), stride=(1, 1), padding=(1, 1))
    (16): ReLU(inplace)
    (17): Conv2d(512, 512, kernel_size=(3, 3), stride=(1, 1), padding=(1, 1))
    (18): ReLU(inplace)
    (19): MaxPool2d(kernel_size=2, stride=2, padding=0, dilation=1, ceil_mode=False)
    (20): Conv2d(512, 512, kernel_size=(3, 3), stride=(1, 1), padding=(1, 1))
    (21): ReLU(inplace)
    (22): Conv2d(512, 512, kernel_size=(3, 3), stride=(1, 1), padding=(1, 1))
    (23): ReLU(inplace)
    (24): MaxPool2d(kernel_size=2, stride=2, padding=0, dilation=1, ceil_mode=False)
  )
  (classifier): Sequential(
    (0): Linear(in_features=25088, out_features=4096, bias=True)
    (1): ReLU(inplace)
    (2): Dropout(p=0.5)
    (3): Linear(in_features=4096, out_features=4096, bias=True)
    (4): ReLU(inplace)
    (5): Dropout(p=0.5)
    (6): Linear(in_features=4096, out_features=1000, bias=True)
  )
)
device = torch.device("cuda" if torch.cuda.is_available() else "cpu")
​
for param in model.parameters():
    param.requires_grad = False
    
​
classifier = nn.Sequential(nn.Linear(25088, 4096),
                           nn.ReLU(),
                           nn.Dropout(0.4),
                           nn.Linear(4096, 102),
                           nn.LogSoftmax(dim = 1))
model.classifier = classifier
​
criterion = nn.NLLLoss()
optimizer = optim.SGD(model.classifier.parameters(), lr = 0.01)
​
model.to(device)
VGG(
  (features): Sequential(
    (0): Conv2d(3, 64, kernel_size=(3, 3), stride=(1, 1), padding=(1, 1))
    (1): BatchNorm2d(64, eps=1e-05, momentum=0.1, affine=True, track_running_stats=True)
    (2): ReLU(inplace)
    (3): Conv2d(64, 64, kernel_size=(3, 3), stride=(1, 1), padding=(1, 1))
    (4): BatchNorm2d(64, eps=1e-05, momentum=0.1, affine=True, track_running_stats=True)
    (5): ReLU(inplace)
    (6): MaxPool2d(kernel_size=2, stride=2, padding=0, dilation=1, ceil_mode=False)
    (7): Conv2d(64, 128, kernel_size=(3, 3), stride=(1, 1), padding=(1, 1))
    (8): BatchNorm2d(128, eps=1e-05, momentum=0.1, affine=True, track_running_stats=True)
    (9): ReLU(inplace)
    (10): Conv2d(128, 128, kernel_size=(3, 3), stride=(1, 1), padding=(1, 1))
    (11): BatchNorm2d(128, eps=1e-05, momentum=0.1, affine=True, track_running_stats=True)
    (12): ReLU(inplace)
    (13): MaxPool2d(kernel_size=2, stride=2, padding=0, dilation=1, ceil_mode=False)
    (14): Conv2d(128, 256, kernel_size=(3, 3), stride=(1, 1), padding=(1, 1))
    (15): BatchNorm2d(256, eps=1e-05, momentum=0.1, affine=True, track_running_stats=True)
    (16): ReLU(inplace)
    (17): Conv2d(256, 256, kernel_size=(3, 3), stride=(1, 1), padding=(1, 1))
    (18): BatchNorm2d(256, eps=1e-05, momentum=0.1, affine=True, track_running_stats=True)
    (19): ReLU(inplace)
    (20): Conv2d(256, 256, kernel_size=(3, 3), stride=(1, 1), padding=(1, 1))
    (21): BatchNorm2d(256, eps=1e-05, momentum=0.1, affine=True, track_running_stats=True)
    (22): ReLU(inplace)
    (23): Conv2d(256, 256, kernel_size=(3, 3), stride=(1, 1), padding=(1, 1))
    (24): BatchNorm2d(256, eps=1e-05, momentum=0.1, affine=True, track_running_stats=True)
    (25): ReLU(inplace)
    (26): MaxPool2d(kernel_size=2, stride=2, padding=0, dilation=1, ceil_mode=False)
    (27): Conv2d(256, 512, kernel_size=(3, 3), stride=(1, 1), padding=(1, 1))
    (28): BatchNorm2d(512, eps=1e-05, momentum=0.1, affine=True, track_running_stats=True)
    (29): ReLU(inplace)
    (30): Conv2d(512, 512, kernel_size=(3, 3), stride=(1, 1), padding=(1, 1))
    (31): BatchNorm2d(512, eps=1e-05, momentum=0.1, affine=True, track_running_stats=True)
    (32): ReLU(inplace)
    (33): Conv2d(512, 512, kernel_size=(3, 3), stride=(1, 1), padding=(1, 1))
    (34): BatchNorm2d(512, eps=1e-05, momentum=0.1, affine=True, track_running_stats=True)
    (35): ReLU(inplace)
    (36): Conv2d(512, 512, kernel_size=(3, 3), stride=(1, 1), padding=(1, 1))
    (37): BatchNorm2d(512, eps=1e-05, momentum=0.1, affine=True, track_running_stats=True)
    (38): ReLU(inplace)
    (39): MaxPool2d(kernel_size=2, stride=2, padding=0, dilation=1, ceil_mode=False)
    (40): Conv2d(512, 512, kernel_size=(3, 3), stride=(1, 1), padding=(1, 1))
    (41): BatchNorm2d(512, eps=1e-05, momentum=0.1, affine=True, track_running_stats=True)
    (42): ReLU(inplace)
    (43): Conv2d(512, 512, kernel_size=(3, 3), stride=(1, 1), padding=(1, 1))
    (44): BatchNorm2d(512, eps=1e-05, momentum=0.1, affine=True, track_running_stats=True)
    (45): ReLU(inplace)
    (46): Conv2d(512, 512, kernel_size=(3, 3), stride=(1, 1), padding=(1, 1))
    (47): BatchNorm2d(512, eps=1e-05, momentum=0.1, affine=True, track_running_stats=True)
    (48): ReLU(inplace)
    (49): Conv2d(512, 512, kernel_size=(3, 3), stride=(1, 1), padding=(1, 1))
    (50): BatchNorm2d(512, eps=1e-05, momentum=0.1, affine=True, track_running_stats=True)
    (51): ReLU(inplace)
    (52): MaxPool2d(kernel_size=2, stride=2, padding=0, dilation=1, ceil_mode=False)
  )
  (classifier): Sequential(
    (0): Linear(in_features=25088, out_features=4096, bias=True)
    (1): ReLU()
    (2): Dropout(p=0.4)
    (3): Linear(in_features=4096, out_features=102, bias=True)
    (4): LogSoftmax()
  )
)
#train the model
​
epochs = 30
steps = 0
running_loss = 0
print_every = 1
actual_labels = []
​
for epoch in range(epochs):
    for inputs, labels in trainloader:
        steps += 1
                    
        inputs, labels = inputs.to(device), labels.to(device)
        logps = model.forward(inputs)
        loss = criterion(logps,labels)
        running_loss += loss.item()
        optimizer.zero_grad()
        loss.backward()
        optimizer.step()
                   
        
​
    if steps % print_every == 0:
        valid_loss = 0
        accuracy = 0
        model.eval()
        with torch.no_grad():
            for inputs, labels in validloader:
                inputs, labels = inputs.to(device), labels.to(device)
                logps = model.forward(inputs)
                loss = criterion(logps, labels)
                valid_loss += loss.item()
                ps = torch.exp(logps)
                top_p, top_class = ps.topk(1, dim = 1)
                equality = top_class == labels.view(*top_class.shape)
                accuracy += torch.mean(equality.type(torch.FloatTensor)).item() 
                
        print(f"Epoch {epoch+1}/{epochs}.. "
              f"Train loss: {running_loss/print_every: .3f}.. "
              f"Valid loss: {valid_loss/len(validloader): .3f}.. "
              f"Accuracy: {accuracy/len(validloader)*100: .3f}"
              )         
        running_loss = 0
        model.train()
Epoch 1/30.. Train loss:  460.459.. Valid loss:  4.307.. Accuracy:  9.630
Epoch 2/30.. Train loss:  430.381.. Valid loss:  4.010.. Accuracy:  15.639
Epoch 3/30.. Train loss:  395.733.. Valid loss:  3.615.. Accuracy:  26.971
Epoch 4/30.. Train loss:  353.493.. Valid loss:  3.180.. Accuracy:  39.567
Epoch 5/30.. Train loss:  312.125.. Valid loss:  2.777.. Accuracy:  43.909
Epoch 6/30.. Train loss:  274.421.. Valid loss:  2.407.. Accuracy:  54.144
Epoch 7/30.. Train loss:  241.112.. Valid loss:  2.124.. Accuracy:  60.149
Epoch 8/30.. Train loss:  213.286.. Valid loss:  1.865.. Accuracy:  62.192
Epoch 9/30.. Train loss:  189.329.. Valid loss:  1.657.. Accuracy:  67.562
Epoch 10/30.. Train loss:  167.439.. Valid loss:  1.525.. Accuracy:  70.687
Epoch 11/30.. Train loss:  155.763.. Valid loss:  1.395.. Accuracy:  70.034
Epoch 12/30.. Train loss:  139.599.. Valid loss:  1.251.. Accuracy:  76.058
Epoch 13/30.. Train loss:  131.757.. Valid loss:  1.182.. Accuracy:  76.058
Epoch 14/30.. Train loss:  121.853.. Valid loss:  1.091.. Accuracy:  77.668
Epoch 15/30.. Train loss:  112.756.. Valid loss:  1.056.. Accuracy:  78.870
Epoch 16/30.. Train loss:  106.434.. Valid loss:  0.993.. Accuracy:  77.856
Epoch 17/30.. Train loss:  103.271.. Valid loss:  0.920.. Accuracy:  82.784
Epoch 18/30.. Train loss:  97.797.. Valid loss:  0.909.. Accuracy:  79.337
Epoch 19/30.. Train loss:  93.185.. Valid loss:  0.867.. Accuracy:  81.428
Epoch 20/30.. Train loss:  91.582.. Valid loss:  0.852.. Accuracy:  80.918
Epoch 21/30.. Train loss:  86.293.. Valid loss:  0.779.. Accuracy:  81.293
Epoch 22/30.. Train loss:  80.876.. Valid loss:  0.743.. Accuracy:  83.659
Epoch 23/30.. Train loss:  77.957.. Valid loss:  0.716.. Accuracy:  84.861
Epoch 24/30.. Train loss:  77.733.. Valid loss:  0.763.. Accuracy:  83.284
Epoch 25/30.. Train loss:  74.453.. Valid loss:  0.741.. Accuracy:  84.500
Epoch 26/30.. Train loss:  73.861.. Valid loss:  0.706.. Accuracy:  84.365
Epoch 27/30.. Train loss:  70.466.. Valid loss:  0.657.. Accuracy:  84.913
Epoch 28/30.. Train loss:  69.968.. Valid loss:  0.693.. Accuracy:  83.404
Epoch 29/30.. Train loss:  66.331.. Valid loss:  0.666.. Accuracy:  83.918
Epoch 30/30.. Train loss:  64.505.. Valid loss:  0.678.. Accuracy:  84.827
Testing your network
It's good practice to test your trained network on test data, images the network has never seen either in training or validation. This will give you a good estimate for the model's performance on completely new images. Run the test images through the network and measure the accuracy, the same way you did validation. You should be able to reach around 70% accuracy on the test set if the model has been trained well.

# TODO: Do validation on the test set
step = 0
test_loss = 0
accuracy = 0
model.eval()
with torch.no_grad():
    for inputs, labels in testloader:
        step += 1
        inputs, labels = inputs.to(device), labels.to(device)
        logps = model.forward(inputs)
        loss = criterion(logps, labels)
        test_loss += loss.item()
        
        #Accuracy
        ps = torch.exp(logps)
        top_p, top_class = ps.topk(1, dim = 1)
        equals = top_class == labels.view(*top_class.shape)
        accuracy += torch.mean(equals.type(torch.FloatTensor)).item() 
                
        print(f"Step {step}.. "
              f"Test loss: {test_loss/len(testloader): .3f}.. "
              f"Testing Accuracy: {accuracy/len(testloader)*100: .3f}"
              )         
        
Step 1.. Test loss:  0.066.. Testing Accuracy:  6.250
Step 2.. Test loss:  0.104.. Testing Accuracy:  13.101
Step 3.. Test loss:  0.170.. Testing Accuracy:  19.471
Step 4.. Test loss:  0.253.. Testing Accuracy:  25.361
Step 5.. Test loss:  0.292.. Testing Accuracy:  31.851
Step 6.. Test loss:  0.347.. Testing Accuracy:  37.740
Step 7.. Test loss:  0.369.. Testing Accuracy:  45.072
Step 8.. Test loss:  0.415.. Testing Accuracy:  51.803
Step 9.. Test loss:  0.440.. Testing Accuracy:  59.255
Step 10.. Test loss:  0.466.. Testing Accuracy:  66.346
Step 11.. Test loss:  0.543.. Testing Accuracy:  71.755
Step 12.. Test loss:  0.587.. Testing Accuracy:  78.245
Step 13.. Test loss:  0.664.. Testing Accuracy:  84.128
Save the checkpoint
Now that your network is trained, save the model so you can load it later for making predictions. You probably want to save other things such as the mapping of classes to indices which you get from one of the image datasets: image_datasets['train'].class_to_idx. You can attach this to the model as an attribute which makes inference easier later on.

model.class_to_idx = image_datasets['train'].class_to_idx

Remember that you'll want to completely rebuild the model later so you can use it for inference. Make sure to include any information you need in the checkpoint. If you want to load the model and keep training, you'll want to save the number of epochs as well as the optimizer state, optimizer.state_dict. You'll likely want to use this trained model in the next part of the project, so best to save it now.

#save the trained model checkpoint
checkpoint = {
              'state_dict' : model.state_dict(),
              'index' : train_dataset.class_to_idx
              }
torch.save(checkpoint, 'checkpoint.pth')
def load_checkpoint(filepath):
    import torch
    from torchvision import models
    from torch import nn
    checkpoint = torch.load(filepath)
    model = models.vgg19_bn(pretrained = True)
    for param in model.parameters():
        param.requires_grad = False
    model.classifier =  nn.Sequential(nn.Linear(25088, 4096),
                                      nn.ReLU(),
                                      nn.Dropout(0.4),
                                      nn.Linear(4096, 102),
                                      nn.LogSoftmax(dim = 1))  
    
    model.class_to_idx = checkpoint['index']
    model.load_state_dict(checkpoint['state_dict'])
    
       
    return model  
Loading the checkpoint
At this point it's good to write a function that can load a checkpoint and rebuild the model. That way you can come back to this project and keep working on it without having to retrain the network.

# TODO: Write a function that loads a checkpoint and rebuilds the model
model = load_checkpoint('checkpoint.pth')
#print(model)
print(model.state_dict())
Inference for classification
Now you'll write a function to use a trained network for inference. That is, you'll pass an image into the network and predict the class of the flower in the image. Write a function called predict that takes an image and a model, then returns the top $K$ most likely classes along with the probabilities. It should look like

probs, classes = predict(image_path, model)
print(probs)
print(classes)
> [ 0.01558163  0.01541934  0.01452626  0.01443549  0.01407339]
> ['70', '3', '45', '62', '55']
First you'll need to handle processing the input image such that it can be used in your network.

Image Preprocessing
You'll want to use PIL to load the image (documentation). It's best to write a function that preprocesses the image so it can be used as input for the model. This function should process the images in the same manner used for training.

First, resize the images where the shortest side is 256 pixels, keeping the aspect ratio. This can be done with the thumbnail or resize methods. Then you'll need to crop out the center 224x224 portion of the image.

Color channels of images are typically encoded as integers 0-255, but the model expected floats 0-1. You'll need to convert the values. It's easiest with a Numpy array, which you can get from a PIL image like so np_image = np.array(pil_image).

As before, the network expects the images to be normalized in a specific way. For the means, it's [0.485, 0.456, 0.406] and for the standard deviations [0.229, 0.224, 0.225]. You'll want to subtract the means from each color channel, then divide by the standard deviation.

And finally, PyTorch expects the color channel to be the first dimension but it's the third dimension in the PIL image and Numpy array. You can reorder dimensions using ndarray.transpose. The color channel needs to be first and retain the order of the other two dimensions.

def process_image(image_path):
     # TODO: Process a PIL image for use in a PyTorch model
    ''' Scales, crops, and normalizes a PIL image for a PyTorch model,
        returns an Numpy array
    '''
    norm_mean = np.array([0.485, 0.456, 0.406])
    norm_sd = np.array([0.229, 0.224, 0.225])
    
    image = Image.open(image_path)
    
    width, height = image.size
    if width > height:
        height = 256
        ratio = int(width/height)
        width = 256 * ratio
    elif (width == height):
        width = 256
        height = 256
    else:
        width = 256
        ratio = int(height/width)
        height = 256 * ratio
     
    image = image.resize((width, height))
    
    image = image.crop(((width - 224)/2, (height - 224)/2, (width + 224)/2, (height + 224)/2)) 
    
    np_image = np.array(image)
    
    np_image = np_image / 255
    
    np_image = (np_image - norm_mean)/norm_sd
    
​
    np_image = np_image.transpose((2, 0, 1))
    
​
    return np_image
   
To check your work, the function below converts a PyTorch tensor and displays it in the notebook. If your process_image function works, running the output through this function should return the original image (except for the cropped out portions).

def imshow(image, ax=None, title=None):
    """Imshow for Tensor."""
    if ax is None:
        fig, ax = plt.subplots()
    
    # PyTorch tensors assume the color channel is the first dimension
    # but matplotlib assumes is the third dimension
    image = image.transpose((1, 2, 0))
    
    # Undo preprocessing
    mean = np.array([0.485, 0.456, 0.406])
    std = np.array([0.229, 0.224, 0.225])
    image = std * image + mean
    
    # Image needs to be clipped between 0 and 1 or it looks like noise when displayed
    image = np.clip(image, 0, 1)
    
    ax.imshow(image)
    
    return ax
imshow(process_image('flowers/test/1/image_06743.jpg'))
<matplotlib.axes._subplots.AxesSubplot at 0x7f6b1b387f98>

Class Prediction
Once you can get images in the correct format, it's time to write a function for making predictions with your model. A common practice is to predict the top 5 or so (usually called top-$K$) most probable classes. You'll want to calculate the class probabilities then find the $K$ largest values.

To get the top $K$ largest values in a tensor use x.topk(k). This method returns both the highest k probabilities and the indices of those probabilities corresponding to the classes. You need to convert from these indices to the actual class labels using class_to_idx which hopefully you added to the model or from an ImageFolder you used to load the data (see here). Make sure to invert the dictionary so you get a mapping from index to class as well.

Again, this method should take a path to an image and a model checkpoint, then return the probabilities and classes.

probs, classes = predict(image_path, model)
print(probs)
print(classes)
> [ 0.01558163  0.01541934  0.01452626  0.01443549  0.01407339]
> ['70', '3', '45', '62', '55']
with open('cat_to_name.json', 'r') as f:
    cat_to_name = json.load(f)
def predict(image_path, model, topk):
    ''' Predict the class (or classes) of an image using a trained deep learning model.
    '''
    model = load_checkpoint('checkpoint.pth')
    device = torch.device("cuda" if torch.cuda.is_available() else "cpu")
    model.to(device)
    model.eval()
    image = process_image(image_path)
    image_tensor = torch.from_numpy(image).type(torch.FloatTensor).unsqueeze_(0)
    
    inputs = (image_tensor).to(device)
    
    with torch.no_grad():
        logps = model.forward(inputs)
        ps = torch.exp(logps)
        top_p, top_index = ps.topk(topk, dim = 1)
        top_p = top_p.to('cpu').numpy().tolist()
        top_index = np.array(top_index.cpu())[0]
        index_to_class = {value:key for key, value in model.class_to_idx.items()}
        top_classes = [index_to_class[index] for index in top_index]
        top_flowers = [cat_to_name[classes] for classes in top_classes ]
    return top_p, top_classes, top_flowers      
    
probs, classes, flower_names = predict('flowers/test/1/image_06743.jpg', model, topk = 5)
​
print(probs)
​
print(classes)
​
print(flower_names)
[[0.6542327404022217, 0.08529943227767944, 0.03652225434780121, 0.03491409495472908, 0.01765955053269863]]
['1', '19', '76', '51', '97']
['pink primrose', 'balloon flower', 'morning glory', 'petunia', 'mallow']
Sanity Checking
Now that you can use a trained model for predictions, check to make sure it makes sense. Even if the testing accuracy is high, it's always good to check that there aren't obvious bugs. Use matplotlib to plot the probabilities for the top 5 classes as a bar graph, along with the input image. It should look like this:


You can convert from the class integer encoding to actual flower names with the cat_to_name.json file (should have been loaded earlier in the notebook). To show a PyTorch tensor as an image, use the imshow function defined above.

# TODO: Display an image along with the top 5 classes
​
def sanity_check(image_path, model):
​
    fig, (ax1, ax2) = plt.subplots(figsize=(8,8), nrows=2)
    image = process_image(image_path)
    probabilities, classes, flower_names = predict(image_path, model)
    probabilities = probabilities[0]
    
    ax1 = imshow(image, ax = ax1)
    ax1.axis('off')
    ax1.set_title(flower_names[0])
    y_axis_ld = np.arange(len(flower_names))
    ax2.barh(y_axis_ld, probabilities)
    ax2.set_yticks(y_axis_ld)
    ax2.set_yticklabels(flower_names)
    ax2.invert_yaxis()
    ax2.set_xlabel("Probabilities")
    ax2.set_xlim(0, 1)
    plt.show()
sanity_check('flowers/test/100/image_07896.jpg', model)
​
​

sanity_check('flowers/test/1/image_06743.jpg', model)

​
